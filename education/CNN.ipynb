{
 "cells": [
  {
   "cell_type": "code",
   "execution_count": null,
   "metadata": {},
   "outputs": [],
   "source": [
    "from __future__ import absolute_import\n",
    "from __future__ import division\n",
    "from __future__ import print_function\n",
    "\n",
    "import tensorflow as tf\n",
    "import numpy as np\n",
    "import os\n",
    "import math"
   ]
  },
  {
   "cell_type": "code",
   "execution_count": null,
   "metadata": {},
   "outputs": [],
   "source": [
    "learning_rate = 0.0001\n",
    "batch_size = 16\n",
    "\n",
    "IMG_WIDTH = 208\n",
    "IMG_HEIGHT = 208"
   ]
  },
  {
   "cell_type": "code",
   "execution_count": null,
   "metadata": {},
   "outputs": [],
   "source": [
    "def get_label(file_path):\n",
    "    # return whether the file_path is a cat or dog\n",
    "    # (./train/dog.11971.jpg) return false\n",
    "    # Look into string_split and tf.equal -> (compare tensor against python string)\n",
    "    # Example is tf.string_split([file_path], 't')\n",
    "    pass\n",
    "def decode_img(img):\n",
    "    img = tf.image.decode_jpeg(img, channels=3)\n",
    "    img = tf.image.convert_image_dtype(img, tf.float32)\n",
    "    # return img that is all of the same size (right now they are not)\n",
    "    # make sure all images are of IMG_WIDTH and IMG_HEIGHT\n",
    "    # look into tf.image.resize_image_with_crop_or_pad\n",
    "    pass\n",
    "def process_path(file_path):\n",
    "    # Main one that given a file_path (./train/dog.11971.jpg) should \n",
    "    # return\n",
    "    # a tuple of image, label (matrix for the dog image, False for dog)\n",
    "    # look into tf.io.read_file\n",
    "    pass"
   ]
  },
  {
   "cell_type": "code",
   "execution_count": null,
   "metadata": {},
   "outputs": [],
   "source": [
    "train_dir = \"./train/\"\n",
    "# Creates a dataset (this is a graph operation not part of session)\n",
    "# Dataset is full of strings right now corresponding to the file paths of the images\n",
    "dataset = tf.data.Dataset.list_files(train_dir + \"*.*.jpg\")\n",
    "# apply process path to each of the file paths that we got\n",
    "dataset = dataset.map(process_path)\n",
    "dataset = dataset.shuffle(buffer_size=500)\n",
    "# Tru increasing batch size if your ram can handle it\n",
    "dataset = dataset.batch(4)\n",
    "\n",
    "iterator = dataset.make_initializable_iterator()\n",
    "batch = iterator.get_next()"
   ]
  },
  {
   "cell_type": "code",
   "execution_count": null,
   "metadata": {},
   "outputs": [],
   "source": [
    "with tf.Session() as sess:\n",
    "    # Initialize our dataset\n",
    "    sess.run(iterator.initializer)\n",
    "    # Grab one batch\n",
    "    print(sess.run(batch))"
   ]
  },
  {
   "cell_type": "code",
   "execution_count": null,
   "metadata": {},
   "outputs": [],
   "source": [
    "def inference(images):\n",
    "    # assume images is a placeholder\n",
    "    # conv net with \n",
    "    # layer 1: 32 (5-by-5) kernels, relu\n",
    "    # max pooling in between\n",
    "    # layer 2: 64 (5-by-5) kernels, relu\n",
    "    # max pooling in between\n",
    "    # flatten the kernels so we can feed it into a dense layer\n",
    "    # layer 3: dense layer with 1024 neuraons\n",
    "    # layer 4: output dense layer with 2 neurons for the two classes\n",
    "    return output_layer"
   ]
  },
  {
   "cell_type": "code",
   "execution_count": null,
   "metadata": {},
   "outputs": [],
   "source": [
    "def losses(logits, labels):\n",
    "    # sparse_softmax_cross_entropy_with_logits\n",
    "    # make sure to reduce_mean\n",
    "    return loss\n",
    "def training(loss, learning_rate):\n",
    "    # Use adam optimizer\n",
    "    return train_op\n",
    "def evaluation(logits, labels):\n",
    "    # return how good the model is as a percentage (look into tf.nn.in_top_k)\n",
    "    # make sure to reduce_mean to get a single value\n",
    "    return accuracy\n"
   ]
  },
  {
   "cell_type": "code",
   "execution_count": null,
   "metadata": {},
   "outputs": [],
   "source": [
    "x = tf.placeholder(tf.float32, shape=[None, IMG_WIDTH, IMG_HEIGHT, 3])\n",
    "y = tf.placeholder(tf.int32, shape=[None])\n",
    "\n",
    "model = inference(x)\n",
    "loss = losses(model, y)  \n",
    "acc = evaluation(model, y)\n",
    "train_op = training(loss, learning_rate)"
   ]
  },
  {
   "cell_type": "code",
   "execution_count": null,
   "metadata": {},
   "outputs": [],
   "source": [
    "epochs = 10\n",
    "# This will take a while so if you want I can run this on a GPU for you. \n",
    "with tf.Session(config=config) as sess:\n",
    "    # initialize all variables (intialize values in the neural network)\n",
    "    sess.run(tf.global_variables_initializer())\n",
    "    # Create a saver to save the model\n",
    "    saver = tf.train.Saver()\n",
    "    for epoch in range(epochs):\n",
    "        while True:\n",
    "            try:\n",
    "                # grab images and labels with sess.run(batch)\n",
    "                # Then feed it into network to get loss and accuracy\n",
    "                # Print your loss and accuracy every 20 steps of training\n",
    "            except tf.errors.OutOfRangeError:\n",
    "                break\n",
    "        save_path = saver.save(sess, \"save/model\" + str(epoch) + \".ckpt\")"
   ]
  }
 ],
 "metadata": {
  "kernelspec": {
   "display_name": "Python 3",
   "language": "python",
   "name": "python3"
  },
  "language_info": {
   "codemirror_mode": {
    "name": "ipython",
    "version": 3
   },
   "file_extension": ".py",
   "mimetype": "text/x-python",
   "name": "python",
   "nbconvert_exporter": "python",
   "pygments_lexer": "ipython3",
   "version": "3.6.6"
  }
 },
 "nbformat": 4,
 "nbformat_minor": 2
}
