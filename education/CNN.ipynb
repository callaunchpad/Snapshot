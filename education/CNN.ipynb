{
 "cells": [
  {
   "cell_type": "code",
<<<<<<< HEAD
   "execution_count": 1,
   "metadata": {},
   "outputs": [
    {
     "name": "stderr",
     "output_type": "stream",
     "text": [
      "/home/praveenb/snapshot-env/lib/python3.6/site-packages/tensorflow/python/framework/dtypes.py:516: FutureWarning: Passing (type, 1) or '1type' as a synonym of type is deprecated; in a future version of numpy, it will be understood as (type, (1,)) / '(1,)type'.\n",
      "  _np_qint8 = np.dtype([(\"qint8\", np.int8, 1)])\n",
      "/home/praveenb/snapshot-env/lib/python3.6/site-packages/tensorflow/python/framework/dtypes.py:517: FutureWarning: Passing (type, 1) or '1type' as a synonym of type is deprecated; in a future version of numpy, it will be understood as (type, (1,)) / '(1,)type'.\n",
      "  _np_quint8 = np.dtype([(\"quint8\", np.uint8, 1)])\n",
      "/home/praveenb/snapshot-env/lib/python3.6/site-packages/tensorflow/python/framework/dtypes.py:518: FutureWarning: Passing (type, 1) or '1type' as a synonym of type is deprecated; in a future version of numpy, it will be understood as (type, (1,)) / '(1,)type'.\n",
      "  _np_qint16 = np.dtype([(\"qint16\", np.int16, 1)])\n",
      "/home/praveenb/snapshot-env/lib/python3.6/site-packages/tensorflow/python/framework/dtypes.py:519: FutureWarning: Passing (type, 1) or '1type' as a synonym of type is deprecated; in a future version of numpy, it will be understood as (type, (1,)) / '(1,)type'.\n",
      "  _np_quint16 = np.dtype([(\"quint16\", np.uint16, 1)])\n",
      "/home/praveenb/snapshot-env/lib/python3.6/site-packages/tensorflow/python/framework/dtypes.py:520: FutureWarning: Passing (type, 1) or '1type' as a synonym of type is deprecated; in a future version of numpy, it will be understood as (type, (1,)) / '(1,)type'.\n",
      "  _np_qint32 = np.dtype([(\"qint32\", np.int32, 1)])\n",
      "/home/praveenb/snapshot-env/lib/python3.6/site-packages/tensorflow/python/framework/dtypes.py:525: FutureWarning: Passing (type, 1) or '1type' as a synonym of type is deprecated; in a future version of numpy, it will be understood as (type, (1,)) / '(1,)type'.\n",
      "  np_resource = np.dtype([(\"resource\", np.ubyte, 1)])\n",
      "/home/praveenb/snapshot-env/lib/python3.6/site-packages/tensorboard/compat/tensorflow_stub/dtypes.py:541: FutureWarning: Passing (type, 1) or '1type' as a synonym of type is deprecated; in a future version of numpy, it will be understood as (type, (1,)) / '(1,)type'.\n",
      "  _np_qint8 = np.dtype([(\"qint8\", np.int8, 1)])\n",
      "/home/praveenb/snapshot-env/lib/python3.6/site-packages/tensorboard/compat/tensorflow_stub/dtypes.py:542: FutureWarning: Passing (type, 1) or '1type' as a synonym of type is deprecated; in a future version of numpy, it will be understood as (type, (1,)) / '(1,)type'.\n",
      "  _np_quint8 = np.dtype([(\"quint8\", np.uint8, 1)])\n",
      "/home/praveenb/snapshot-env/lib/python3.6/site-packages/tensorboard/compat/tensorflow_stub/dtypes.py:543: FutureWarning: Passing (type, 1) or '1type' as a synonym of type is deprecated; in a future version of numpy, it will be understood as (type, (1,)) / '(1,)type'.\n",
      "  _np_qint16 = np.dtype([(\"qint16\", np.int16, 1)])\n",
      "/home/praveenb/snapshot-env/lib/python3.6/site-packages/tensorboard/compat/tensorflow_stub/dtypes.py:544: FutureWarning: Passing (type, 1) or '1type' as a synonym of type is deprecated; in a future version of numpy, it will be understood as (type, (1,)) / '(1,)type'.\n",
      "  _np_quint16 = np.dtype([(\"quint16\", np.uint16, 1)])\n",
      "/home/praveenb/snapshot-env/lib/python3.6/site-packages/tensorboard/compat/tensorflow_stub/dtypes.py:545: FutureWarning: Passing (type, 1) or '1type' as a synonym of type is deprecated; in a future version of numpy, it will be understood as (type, (1,)) / '(1,)type'.\n",
      "  _np_qint32 = np.dtype([(\"qint32\", np.int32, 1)])\n",
      "/home/praveenb/snapshot-env/lib/python3.6/site-packages/tensorboard/compat/tensorflow_stub/dtypes.py:550: FutureWarning: Passing (type, 1) or '1type' as a synonym of type is deprecated; in a future version of numpy, it will be understood as (type, (1,)) / '(1,)type'.\n",
      "  np_resource = np.dtype([(\"resource\", np.ubyte, 1)])\n"
     ]
    }
   ],
   "source": [
=======
   "execution_count": null,
   "metadata": {},
   "outputs": [],
   "source": [
    "from __future__ import absolute_import\n",
    "from __future__ import division\n",
    "from __future__ import print_function\n",
    "\n",
>>>>>>> master
    "import tensorflow as tf\n",
    "import numpy as np\n",
    "import os\n",
    "import math"
   ]
  },
  {
   "cell_type": "code",
<<<<<<< HEAD
   "execution_count": 2,
   "metadata": {},
   "outputs": [],
   "source": [
    "IMG_WIDTH = 288\n",
    "IMG_HEIGHT = 288\n",
    "learning_rate = 1e-4\n",
    "batch_size = 20"
=======
   "execution_count": null,
   "metadata": {},
   "outputs": [],
   "source": [
    "learning_rate = 0.0001\n",
    "batch_size = 16\n",
    "\n",
    "IMG_WIDTH = 208\n",
    "IMG_HEIGHT = 208"
>>>>>>> master
   ]
  },
  {
   "cell_type": "code",
<<<<<<< HEAD
   "execution_count": 3,
=======
   "execution_count": null,
>>>>>>> master
   "metadata": {},
   "outputs": [],
   "source": [
    "def get_label(file_path):\n",
<<<<<<< HEAD
    "    return tf.strings.regex_full_match(file_path, \".*dog\\..*\")\n",
    "\n",
    "def decode_img(img):\n",
    "    img = tf.image.decode_jpeg(img, channels=3)\n",
    "    img = tf.image.convert_image_dtype(img, tf.float32)\n",
    "    img = tf.image.resize(img, (IMG_HEIGHT, IMG_WIDTH))\n",
    "    return img\n",
    "\n",
    "def process_path(file_path):\n",
    "    return decode_img(tf.io.read_file(file_path)), get_label(file_path)"
=======
    "    # return whether the file_path is a cat or dog\n",
    "    # (./train/dog.11971.jpg) return false\n",
    "    # Look into string_split and tf.equal -> (compare tensor against python string)\n",
    "    # Example is tf.string_split([file_path], 't')\n",
    "    pass\n",
    "def decode_img(img):\n",
    "    img = tf.image.decode_jpeg(img, channels=3)\n",
    "    img = tf.image.convert_image_dtype(img, tf.float32)\n",
    "    # return img that is all of the same size (right now they are not)\n",
    "    # make sure all images are of IMG_WIDTH and IMG_HEIGHT\n",
    "    # look into tf.image.resize_image_with_crop_or_pad\n",
    "    pass\n",
    "def process_path(file_path):\n",
    "    # Main one that given a file_path (./train/dog.11971.jpg) should \n",
    "    # return\n",
    "    # a tuple of image, label (matrix for the dog image, False for dog)\n",
    "    # look into tf.io.read_file\n",
    "    pass"
>>>>>>> master
   ]
  },
  {
   "cell_type": "code",
<<<<<<< HEAD
   "execution_count": 4,
   "metadata": {},
   "outputs": [
    {
     "name": "stdout",
     "output_type": "stream",
     "text": [
      "WARNING:tensorflow:From <ipython-input-4-b79bcbbb84d8>:8: DatasetV1.make_initializable_iterator (from tensorflow.python.data.ops.dataset_ops) is deprecated and will be removed in a future version.\n",
      "Instructions for updating:\n",
      "Use `for ... in dataset:` to iterate over a dataset. If using `tf.estimator`, return the `Dataset` object directly from your input function. As a last resort, you can use `tf.compat.v1.data.make_initializable_iterator(dataset)`.\n"
     ]
    }
   ],
   "source": [
    "train_dir = \"/home/praveenb/data/dogs-vs-cats/train/\"\n",
    "dataset = tf.data.Dataset.list_files(os.path.join(train_dir, \"*.*.jpg\"))\n",
    "dataset = dataset.map(process_path)\n",
    "\n",
    "dataset.shuffle(buffer_size=50)\n",
    "data = dataset.batch(batch_size)\n",
    "\n",
    "iterator = data.make_initializable_iterator()\n",
=======
   "execution_count": null,
   "metadata": {},
   "outputs": [],
   "source": [
    "train_dir = \"./train/\"\n",
    "# Creates a dataset (this is a graph operation not part of session)\n",
    "# Dataset is full of strings right now corresponding to the file paths of the images\n",
    "dataset = tf.data.Dataset.list_files(train_dir + \"*.*.jpg\")\n",
    "# apply process path to each of the file paths that we got\n",
    "dataset = dataset.map(process_path)\n",
    "dataset = dataset.shuffle(buffer_size=500)\n",
    "# Tru increasing batch size if your ram can handle it\n",
    "dataset = dataset.batch(4)\n",
    "\n",
    "iterator = dataset.make_initializable_iterator()\n",
>>>>>>> master
    "batch = iterator.get_next()"
   ]
  },
  {
   "cell_type": "code",
<<<<<<< HEAD
   "execution_count": 5,
   "metadata": {},
   "outputs": [],
   "source": [
    "def inference(x):\n",
    "    conv1 = tf.layers.conv2d(x, 32, 5, activation=tf.nn.relu)\n",
    "    pool1 = tf.layers.max_pooling2d(conv1, 2, 2)\n",
    "    conv2 = tf.layers.conv2d(pool1, 64, 4, activation=tf.nn.relu)\n",
    "    flat = tf.layers.flatten(conv2)\n",
    "    dense = tf.layers.dense(flat, 1000)\n",
    "    output_layer = tf.layers.dense(dense, 2)\n",
=======
   "execution_count": null,
   "metadata": {},
   "outputs": [],
   "source": [
    "with tf.Session() as sess:\n",
    "    # Initialize our dataset\n",
    "    sess.run(iterator.initializer)\n",
    "    # Grab one batch\n",
    "    print(sess.run(batch))"
   ]
  },
  {
   "cell_type": "code",
   "execution_count": null,
   "metadata": {},
   "outputs": [],
   "source": [
    "def inference(images):\n",
    "    # assume images is a placeholder\n",
    "    # conv net with \n",
    "    # layer 1: 32 (5-by-5) kernels, relu\n",
    "    # max pooling in between\n",
    "    # layer 2: 64 (5-by-5) kernels, relu\n",
    "    # max pooling in between\n",
    "    # flatten the kernels so we can feed it into a dense layer\n",
    "    # layer 3: dense layer with 1024 neuraons\n",
    "    # layer 4: output dense layer with 2 neurons for the two classes\n",
>>>>>>> master
    "    return output_layer"
   ]
  },
  {
   "cell_type": "code",
<<<<<<< HEAD
   "execution_count": 6,
=======
   "execution_count": null,
>>>>>>> master
   "metadata": {},
   "outputs": [],
   "source": [
    "def losses(logits, labels):\n",
<<<<<<< HEAD
    "    sce = tf.nn.sparse_softmax_cross_entropy_with_logits(logits=logits, labels=labels)\n",
    "    mred = tf.reduce_mean(sce)\n",
    "    return mred\n",
    "\n",
    "def training(loss, learning_rate):\n",
    "    opt = tf.train.GradientDescentOptimizer(learning_rate=learning_rate)\n",
    "    return opt.minimize(loss)\n",
    "\n",
    "def evaluation(logits, labels):\n",
    "    return tf.reduce_mean(tf.cast(tf.nn.in_top_k(logits, labels, 1), tf.float32))"
=======
    "    # sparse_softmax_cross_entropy_with_logits\n",
    "    # make sure to reduce_mean\n",
    "    return loss\n",
    "def training(loss, learning_rate):\n",
    "    # Use adam optimizer\n",
    "    return train_op\n",
    "def evaluation(logits, labels):\n",
    "    # return how good the model is as a percentage (look into tf.nn.in_top_k)\n",
    "    # make sure to reduce_mean to get a single value\n",
    "    return accuracy\n"
>>>>>>> master
   ]
  },
  {
   "cell_type": "code",
<<<<<<< HEAD
   "execution_count": 7,
   "metadata": {},
   "outputs": [
    {
     "name": "stdout",
     "output_type": "stream",
     "text": [
      "WARNING:tensorflow:From <ipython-input-5-2f30617f8666>:2: conv2d (from tensorflow.python.layers.convolutional) is deprecated and will be removed in a future version.\n",
      "Instructions for updating:\n",
      "Use `tf.keras.layers.Conv2D` instead.\n",
      "WARNING:tensorflow:From /home/praveenb/snapshot-env/lib/python3.6/site-packages/tensorflow/python/ops/init_ops.py:1251: calling VarianceScaling.__init__ (from tensorflow.python.ops.init_ops) with dtype is deprecated and will be removed in a future version.\n",
      "Instructions for updating:\n",
      "Call initializer instance with the dtype argument instead of passing it to the constructor\n",
      "WARNING:tensorflow:Entity <bound method Conv.call of <tensorflow.python.layers.convolutional.Conv2D object at 0x7fdbb17348d0>> could not be transformed and will be executed as-is. Please report this to the AutgoGraph team. When filing the bug, set the verbosity to 10 (on Linux, `export AUTOGRAPH_VERBOSITY=10`) and attach the full output. Cause: converting <bound method Conv.call of <tensorflow.python.layers.convolutional.Conv2D object at 0x7fdbb17348d0>>: AssertionError: Bad argument number for Name: 3, expecting 4\n",
      "WARNING: Entity <bound method Conv.call of <tensorflow.python.layers.convolutional.Conv2D object at 0x7fdbb17348d0>> could not be transformed and will be executed as-is. Please report this to the AutgoGraph team. When filing the bug, set the verbosity to 10 (on Linux, `export AUTOGRAPH_VERBOSITY=10`) and attach the full output. Cause: converting <bound method Conv.call of <tensorflow.python.layers.convolutional.Conv2D object at 0x7fdbb17348d0>>: AssertionError: Bad argument number for Name: 3, expecting 4\n",
      "WARNING:tensorflow:From <ipython-input-5-2f30617f8666>:3: max_pooling2d (from tensorflow.python.layers.pooling) is deprecated and will be removed in a future version.\n",
      "Instructions for updating:\n",
      "Use keras.layers.MaxPooling2D instead.\n",
      "WARNING:tensorflow:Entity <bound method Pooling2D.call of <tensorflow.python.layers.pooling.MaxPooling2D object at 0x7fdc60416630>> could not be transformed and will be executed as-is. Please report this to the AutgoGraph team. When filing the bug, set the verbosity to 10 (on Linux, `export AUTOGRAPH_VERBOSITY=10`) and attach the full output. Cause: converting <bound method Pooling2D.call of <tensorflow.python.layers.pooling.MaxPooling2D object at 0x7fdc60416630>>: AssertionError: Bad argument number for Name: 3, expecting 4\n",
      "WARNING: Entity <bound method Pooling2D.call of <tensorflow.python.layers.pooling.MaxPooling2D object at 0x7fdc60416630>> could not be transformed and will be executed as-is. Please report this to the AutgoGraph team. When filing the bug, set the verbosity to 10 (on Linux, `export AUTOGRAPH_VERBOSITY=10`) and attach the full output. Cause: converting <bound method Pooling2D.call of <tensorflow.python.layers.pooling.MaxPooling2D object at 0x7fdc60416630>>: AssertionError: Bad argument number for Name: 3, expecting 4\n",
      "WARNING:tensorflow:Entity <bound method Conv.call of <tensorflow.python.layers.convolutional.Conv2D object at 0x7fdc60416630>> could not be transformed and will be executed as-is. Please report this to the AutgoGraph team. When filing the bug, set the verbosity to 10 (on Linux, `export AUTOGRAPH_VERBOSITY=10`) and attach the full output. Cause: converting <bound method Conv.call of <tensorflow.python.layers.convolutional.Conv2D object at 0x7fdc60416630>>: AssertionError: Bad argument number for Name: 3, expecting 4\n",
      "WARNING: Entity <bound method Conv.call of <tensorflow.python.layers.convolutional.Conv2D object at 0x7fdc60416630>> could not be transformed and will be executed as-is. Please report this to the AutgoGraph team. When filing the bug, set the verbosity to 10 (on Linux, `export AUTOGRAPH_VERBOSITY=10`) and attach the full output. Cause: converting <bound method Conv.call of <tensorflow.python.layers.convolutional.Conv2D object at 0x7fdc60416630>>: AssertionError: Bad argument number for Name: 3, expecting 4\n",
      "WARNING:tensorflow:From <ipython-input-5-2f30617f8666>:5: flatten (from tensorflow.python.layers.core) is deprecated and will be removed in a future version.\n",
      "Instructions for updating:\n",
      "Use keras.layers.flatten instead.\n",
      "WARNING:tensorflow:Entity <bound method Flatten.call of <tensorflow.python.layers.core.Flatten object at 0x7fdc60416630>> could not be transformed and will be executed as-is. Please report this to the AutgoGraph team. When filing the bug, set the verbosity to 10 (on Linux, `export AUTOGRAPH_VERBOSITY=10`) and attach the full output. Cause: converting <bound method Flatten.call of <tensorflow.python.layers.core.Flatten object at 0x7fdc60416630>>: AttributeError: module 'gast' has no attribute 'Num'\n",
      "WARNING: Entity <bound method Flatten.call of <tensorflow.python.layers.core.Flatten object at 0x7fdc60416630>> could not be transformed and will be executed as-is. Please report this to the AutgoGraph team. When filing the bug, set the verbosity to 10 (on Linux, `export AUTOGRAPH_VERBOSITY=10`) and attach the full output. Cause: converting <bound method Flatten.call of <tensorflow.python.layers.core.Flatten object at 0x7fdc60416630>>: AttributeError: module 'gast' has no attribute 'Num'\n",
      "WARNING:tensorflow:From <ipython-input-5-2f30617f8666>:6: dense (from tensorflow.python.layers.core) is deprecated and will be removed in a future version.\n",
      "Instructions for updating:\n",
      "Use keras.layers.dense instead.\n",
      "WARNING:tensorflow:Entity <bound method Dense.call of <tensorflow.python.layers.core.Dense object at 0x7fdc60416630>> could not be transformed and will be executed as-is. Please report this to the AutgoGraph team. When filing the bug, set the verbosity to 10 (on Linux, `export AUTOGRAPH_VERBOSITY=10`) and attach the full output. Cause: converting <bound method Dense.call of <tensorflow.python.layers.core.Dense object at 0x7fdc60416630>>: AssertionError: Bad argument number for Name: 3, expecting 4\n",
      "WARNING: Entity <bound method Dense.call of <tensorflow.python.layers.core.Dense object at 0x7fdc60416630>> could not be transformed and will be executed as-is. Please report this to the AutgoGraph team. When filing the bug, set the verbosity to 10 (on Linux, `export AUTOGRAPH_VERBOSITY=10`) and attach the full output. Cause: converting <bound method Dense.call of <tensorflow.python.layers.core.Dense object at 0x7fdc60416630>>: AssertionError: Bad argument number for Name: 3, expecting 4\n",
      "WARNING:tensorflow:Entity <bound method Dense.call of <tensorflow.python.layers.core.Dense object at 0x7fdc60416630>> could not be transformed and will be executed as-is. Please report this to the AutgoGraph team. When filing the bug, set the verbosity to 10 (on Linux, `export AUTOGRAPH_VERBOSITY=10`) and attach the full output. Cause: converting <bound method Dense.call of <tensorflow.python.layers.core.Dense object at 0x7fdc60416630>>: AssertionError: Bad argument number for Name: 3, expecting 4\n",
      "WARNING: Entity <bound method Dense.call of <tensorflow.python.layers.core.Dense object at 0x7fdc60416630>> could not be transformed and will be executed as-is. Please report this to the AutgoGraph team. When filing the bug, set the verbosity to 10 (on Linux, `export AUTOGRAPH_VERBOSITY=10`) and attach the full output. Cause: converting <bound method Dense.call of <tensorflow.python.layers.core.Dense object at 0x7fdc60416630>>: AssertionError: Bad argument number for Name: 3, expecting 4\n"
     ]
    }
   ],
   "source": [
    "x = tf.placeholder(tf.float32, shape=[batch_size, IMG_WIDTH, IMG_HEIGHT, 3])\n",
    "y = tf.placeholder(tf.int32, shape=[batch_size])\n",
    "\n",
    "model = inference(x)\n",
    "loss = losses(model, y)\n",
=======
   "execution_count": null,
   "metadata": {},
   "outputs": [],
   "source": [
    "x = tf.placeholder(tf.float32, shape=[None, IMG_WIDTH, IMG_HEIGHT, 3])\n",
    "y = tf.placeholder(tf.int32, shape=[None])\n",
    "\n",
    "model = inference(x)\n",
    "loss = losses(model, y)  \n",
>>>>>>> master
    "acc = evaluation(model, y)\n",
    "train_op = training(loss, learning_rate)"
   ]
  },
  {
   "cell_type": "code",
   "execution_count": null,
   "metadata": {},
<<<<<<< HEAD
   "outputs": [
    {
     "name": "stdout",
     "output_type": "stream",
     "text": [
      "Epoch\t0\n",
      "Step\t0\t0.739604115486145\t0.4000000059604645\n",
      "Step\t100\t0.7529734969139099\t0.4000000059604645\n",
      "Step\t200\t1.0287144184112549\t0.44999998807907104\n",
      "Step\t300\t0.697846531867981\t0.6000000238418579\n",
      "Step\t400\t0.6205736398696899\t0.8500000238418579\n",
      "Step\t500\t0.6216408610343933\t0.6499999761581421\n",
      "Step\t600\t0.6387666463851929\t0.6000000238418579\n",
      "Step\t700\t0.6842284202575684\t0.6000000238418579\n",
      "Step\t800\t0.6741865873336792\t0.550000011920929\n",
      "Step\t900\t0.7260633111000061\t0.5\n",
      "Step\t1000\t0.6627753376960754\t0.6000000238418579\n",
      "Step\t1100\t0.6514939665794373\t0.6499999761581421\n",
      "Step\t1200\t0.620963990688324\t0.6499999761581421\n",
      "Saving epoch 0...\n",
      "Epoch\t1\n",
      "Step\t0\t0.6745510697364807\t0.6000000238418579\n",
      "Step\t100\t0.7165728807449341\t0.4000000059604645\n",
      "Step\t200\t0.6838191747665405\t0.44999998807907104\n",
      "Step\t300\t0.5714396238327026\t0.75\n",
      "Step\t400\t0.6876794695854187\t0.6499999761581421\n",
      "Step\t500\t0.6810151934623718\t0.6000000238418579\n",
      "Step\t600\t0.6590214967727661\t0.550000011920929\n",
      "Step\t700\t0.7420148849487305\t0.5\n",
      "Step\t800\t0.5431829690933228\t0.699999988079071\n",
      "Step\t900\t0.6248260736465454\t0.699999988079071\n",
      "Step\t1000\t0.6284967660903931\t0.75\n"
     ]
    }
   ],
   "source": [
    "epochs = 10\n",
    "saver = tf.train.Saver()\n",
    "with tf.Session() as sess:\n",
    "    sess.run(tf.global_variables_initializer())\n",
    "    for epoch in range(epochs):\n",
    "        sess.run(iterator.initializer)\n",
    "        print(f\"Epoch\\t{epoch}\")\n",
    "        step = 0\n",
    "        while True:\n",
    "            try:\n",
    "                images, labels = sess.run(batch)\n",
    "                l, accuracy, _ = sess.run([loss, acc, train_op], feed_dict={x: images, y: labels})\n",
    "                if step % 100 == 0:\n",
    "                    print(f\"Step\\t{step}\\t{l}\\t{accuracy}\")\n",
    "                step += 1\n",
    "            except tf.errors.OutOfRangeError:\n",
    "                print(f\"Saving epoch {epoch}...\")\n",
    "                saver.save(sess, f\"/home/praveenb/checkpoints/{epoch}\")\n",
    "                break"
   ]
  },
  {
   "cell_type": "code",
   "execution_count": null,
   "metadata": {},
   "outputs": [],
   "source": []
=======
   "outputs": [],
   "source": [
    "epochs = 10\n",
    "# This will take a while so if you want I can run this on a GPU for you. \n",
    "with tf.Session(config=config) as sess:\n",
    "    # initialize all variables (intialize values in the neural network)\n",
    "    sess.run(tf.global_variables_initializer())\n",
    "    # Create a saver to save the model\n",
    "    saver = tf.train.Saver()\n",
    "    for epoch in range(epochs):\n",
    "        while True:\n",
    "            try:\n",
    "                # grab images and labels with sess.run(batch)\n",
    "                # Then feed it into network to get loss and accuracy\n",
    "                # Print your loss and accuracy every 20 steps of training\n",
    "            except tf.errors.OutOfRangeError:\n",
    "                break\n",
    "        save_path = saver.save(sess, \"save/model\" + str(epoch) + \".ckpt\")"
   ]
>>>>>>> master
  }
 ],
 "metadata": {
  "kernelspec": {
   "display_name": "Python 3",
   "language": "python",
   "name": "python3"
  },
  "language_info": {
   "codemirror_mode": {
    "name": "ipython",
    "version": 3
   },
   "file_extension": ".py",
   "mimetype": "text/x-python",
   "name": "python",
   "nbconvert_exporter": "python",
   "pygments_lexer": "ipython3",
<<<<<<< HEAD
   "version": "3.6.8"
=======
   "version": "3.6.6"
>>>>>>> master
  }
 },
 "nbformat": 4,
 "nbformat_minor": 2
}
